{
  "cells": [
    {
      "cell_type": "markdown",
      "metadata": {
        "id": "view-in-github",
        "colab_type": "text"
      },
      "source": [
        "<a href=\"https://colab.research.google.com/github/Andrew97422/difference-schemes/blob/main/optimization-methods/steepest-descent-method.ipynb\" target=\"_parent\"><img src=\"https://colab.research.google.com/assets/colab-badge.svg\" alt=\"Open In Colab\"/></a>"
      ]
    },
    {
      "cell_type": "code",
      "source": [
        "import math\n",
        "import numpy as np\n",
        "\n",
        "def format_print(x):\n",
        "  return \"{0:.6f}\".format(x)\n",
        "\n",
        "def h(s, xk, gk):\n",
        "  x = []\n",
        "  x.append(xk[0] - s * gk[0])\n",
        "  x.append(xk[1] - s * gk[1])\n",
        "  return f(x)\n",
        "\n",
        "def f(x):\n",
        "  return x[0] ** 4 + x[1] ** 4 + np.sqrt(2 + x[0] ** 2 + x[1] ** 2) - 2 * x[0] + 3 * x[1]\n",
        "\n",
        "def f_pr(x):\n",
        "  x_pr = []\n",
        "  x_pr.append(4 * x[0] ** 3 + x[0] / np.sqrt(2 + x[0] ** 2 + x[1] ** 2) - 2)\n",
        "  x_pr.append(4 * x[1] ** 3 + x[1] / np.sqrt(2 + x[0] ** 2 + x[1] ** 2) + 3)\n",
        "  return x_pr\n",
        "\n",
        "def norma(x):\n",
        "  return np.sqrt(x[0] ** 2 + x[1] ** 2)\n",
        "\n",
        "def search_b(xk, gk):\n",
        "  H = 0.5\n",
        "  a = b = 0\n",
        "  while True:\n",
        "    b = a + H\n",
        "    z = h(b, xk, gk)\n",
        "    if h(a, xk, gk) < h(b, xk, gk):\n",
        "      return b\n",
        "    else: return 2 * H\n",
        "\n",
        "def main():\n",
        "  sk = 0.0\n",
        "  eps = 0.000001\n",
        "  xk = [10.0, 10.0]\n",
        "  gk = f_pr(xk)\n",
        "  k = 1\n",
        "  n = 10\n",
        "  while norma(gk) >= eps:\n",
        "    print(str(k) + \") x = {\" + format_print(xk[0]) + \";\" + format_print(xk[1]) + \"}\\tf(x) =\", format_print(f(xk)), \"\\t||f'(x)|| = \", format_print(norma(gk)))\n",
        "    k += 1\n",
        "    a = 0.0\n",
        "    b = search_b(xk, gk)\n",
        "    delta = (3.0 - np.sqrt(5)) * (b - a) / 2\n",
        "    x = a + delta\n",
        "    y = b - delta\n",
        "    while b - a >= 2 * eps:\n",
        "      if h(x, xk, gk) <= h(y, xk, gk):\n",
        "        b = y\n",
        "        y = x\n",
        "        x = b + a - y\n",
        "      else:\n",
        "        a = x\n",
        "        x = y\n",
        "        y = b + a - x\n",
        "\n",
        "    sk = (a + b) / 2;\n",
        "    xk[0] = xk[0] - sk * gk[0]\n",
        "    xk[1] = xk[1] - sk * gk[1]\n",
        "\n",
        "    gk = f_pr(xk)\n",
        "  print(str(k) + \") x = {\" + format_print(xk[0]) + \";\" + format_print(xk[1]) + \"}\\tf(x) = \", format_print(f(xk)), \"\\t||f'(x)|| = \", format_print(norma(gk)))\n",
        "  print(\"xmin = {\" + format_print(xk[0]) + \";\" + format_print(xk[1]) + \"}\")\n",
        "main()"
      ],
      "metadata": {
        "id": "aR4AObDaseSq",
        "outputId": "3f7b4c9b-8462-4da0-c845-81d5ac73bfe5",
        "colab": {
          "base_uri": "https://localhost:8080/"
        }
      },
      "execution_count": 51,
      "outputs": [
        {
          "output_type": "stream",
          "name": "stdout",
          "text": [
            "1) x = {10.000000;10.000000}\tf(x) = 20024.212670 \t||f'(x)|| =  5658.557498\n",
            "2) x = {-0.384534;-0.397518}\tf(x) = 1.141862 \t||f'(x)|| =  3.512642\n",
            "3) x = {0.235215;-1.018838}\tf(x) = -0.687582 \t||f'(x)|| =  2.562435\n",
            "4) x = {0.534296;-0.720513}\tf(x) = -1.204435 \t||f'(x)|| =  1.516342\n",
            "5) x = {0.697666;-0.884299}\tf(x) = -1.391854 \t||f'(x)|| =  0.361288\n",
            "6) x = {0.729132;-0.852913}\tf(x) = -1.399874 \t||f'(x)|| =  0.064561\n",
            "7) x = {0.734865;-0.858661}\tf(x) = -1.400136 \t||f'(x)|| =  0.009442\n",
            "8) x = {0.735679;-0.857849}\tf(x) = -1.400142 \t||f'(x)|| =  0.001333\n",
            "9) x = {0.735797;-0.857967}\tf(x) = -1.400142 \t||f'(x)|| =  0.000192\n",
            "10) x = {0.735814;-0.857950}\tf(x) = -1.400142 \t||f'(x)|| =  0.000027\n",
            "11) x = {0.735816;-0.857953}\tf(x) = -1.400142 \t||f'(x)|| =  0.000004\n",
            "12) x = {0.735816;-0.857952}\tf(x) =  -1.400142 \t||f'(x)|| =  0.000001\n",
            "xmin = {0.735816;-0.857952}\n"
          ]
        }
      ]
    }
  ],
  "metadata": {
    "colab": {
      "name": "Добро пожаловать в Colaboratory!",
      "toc_visible": true,
      "provenance": [],
      "include_colab_link": true
    },
    "kernelspec": {
      "display_name": "Python 3",
      "name": "python3"
    }
  },
  "nbformat": 4,
  "nbformat_minor": 0
}