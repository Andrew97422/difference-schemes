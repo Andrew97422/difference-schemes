{
  "nbformat": 4,
  "nbformat_minor": 0,
  "metadata": {
    "colab": {
      "provenance": [],
      "authorship_tag": "ABX9TyNG3hnSSci85zYLzaVFiNsw",
      "include_colab_link": true
    },
    "kernelspec": {
      "name": "python3",
      "display_name": "Python 3"
    },
    "language_info": {
      "name": "python"
    }
  },
  "cells": [
    {
      "cell_type": "markdown",
      "metadata": {
        "id": "view-in-github",
        "colab_type": "text"
      },
      "source": [
        "<a href=\"https://colab.research.google.com/github/Andrew97422/difference-schemes/blob/main/optimization-methods/conditional_gradient_method.ipynb\" target=\"_parent\"><img src=\"https://colab.research.google.com/assets/colab-badge.svg\" alt=\"Open In Colab\"/></a>"
      ]
    },
    {
      "cell_type": "code",
      "execution_count": 19,
      "metadata": {
        "id": "jcN6I8u9ldxV",
        "colab": {
          "base_uri": "https://localhost:8080/"
        },
        "outputId": "a7aa872c-095c-4f72-afbf-1af304634529"
      },
      "outputs": [
        {
          "output_type": "stream",
          "name": "stdout",
          "text": [
            "1)\tz = [2.9999998, 1.0000000]\ty = [3.0000000, 1.0000000]\ts = 0.9999999\tf(zz) = -2.2082403\t|z - zz| = 1.9999998\n",
            "2)\tz = [2.4999995, 1.5000004]\ty = [2.0000000, 2.0000000]\ts = 0.5000004\tf(zz) = -2.2952517\t|z - zz| = 0.7071072\n",
            "3)\tz = [2.5000004, 1.4999995]\ty = [3.0000000, 1.0000000]\ts = 0.0000017\tf(zz) = -2.2952517\t|z - zz| = 0.0000012\n",
            "4)\tz = [2.4999995, 1.5000004]\ty = [2.0000000, 2.0000000]\ts = 0.0000017\tf(zz) = -2.2952517\t|z - zz| = 0.0000012\n",
            "5)\tz = [2.5000004, 1.4999995]\ty = [3.0000000, 1.0000000]\ts = 0.0000018\tf(zz) = -2.2952517\t|z - zz| = 0.0000013\n",
            "xmin = [2.5000004, 1.4999995]\n"
          ]
        }
      ],
      "source": [
        "import math\n",
        "import numpy as np\n",
        "\n",
        "\n",
        "def g(x):\n",
        "    return np.log(x[0] ** 2 + x[1] ** 2 - 8 * x[0] - 6 * x[1] + 26) - x[0] - x[1]\n",
        "\n",
        "\n",
        "def diffg(x):\n",
        "    res1 = (2 * x[0] - 8) / (x[0] ** 2 + x[1] ** 2 - 8 * x[0] - 6 * x[1] + 26) - 1\n",
        "    res2 = (2 * x[1] - 6) / (x[0] ** 2 + x[1] ** 2 - 8 * x[0] - 6 * x[1] + 26) - 1\n",
        "    res = np.array([res1, res2])\n",
        "    return res\n",
        "\n",
        "\n",
        "def h(xk, yk, s):\n",
        "    return g([xk[0] + s * (yk[0] - xk[0]), xk[1] + s * (yk[1] - xk[1])])\n",
        "\n",
        "\n",
        "def norma(x):\n",
        "    return np.sqrt(x[0] ** 2 + x[1] ** 2)\n",
        "\n",
        "\n",
        "def scalarProduct(x, y):\n",
        "    return x[0] * y[0] + x[1] * y[1]\n",
        "\n",
        "\n",
        "def mult_by_const(c, x):\n",
        "    return [c * x[0], c * x[1]]\n",
        "\n",
        "\n",
        "def findS(xk, yk):\n",
        "    a = 0\n",
        "    b = 1\n",
        "    eps = 10 ** (-round)\n",
        "\n",
        "    delta = (3 - math.sqrt(5)) * (b - a) / 2\n",
        "    x = a + delta\n",
        "    y = b - delta\n",
        "    s = (a + b) / 2\n",
        "    i = 1\n",
        "    while b - a >= 2 * eps:\n",
        "        s = (a + b) / 2\n",
        "        if h(xk, yk, x) < h(xk, yk, y):\n",
        "            b = y\n",
        "            y = x\n",
        "            x = a + b - y\n",
        "        else:\n",
        "            a = x\n",
        "            x = y\n",
        "            y = a + b - x\n",
        "        i += 1\n",
        "\n",
        "    return s\n",
        "\n",
        "def diffVec(x, y):\n",
        "    return np.array([x[0] - y[0], x[1] - y[1]])\n",
        "\n",
        "\n",
        "def findY(x):\n",
        "    vars = [[0, 0], [0, 2], [2, 2], [3, 1], [3, 0]]\n",
        "    index = 0\n",
        "\n",
        "    minimum = scalarProduct(diffg(x), diffVec(vars[0], x))\n",
        "    for i in range(1, len(vars)):\n",
        "        if scalarProduct(diffg(x), diffVec(vars[i], x)) < minimum:\n",
        "            index = i\n",
        "            minimum = scalarProduct(diffg(x), diffVec(vars[i], x))\n",
        "\n",
        "    return vars[index]\n",
        "\n",
        "\n",
        "round = 7\n",
        "def format_print(x):\n",
        "    s = \"{0:.\" + str(round) + \"f}\"\n",
        "    return s.format(x)\n",
        "\n",
        "\n",
        "def main():\n",
        "    eps = 10 ** (-round)\n",
        "    x0 = [1, 1]\n",
        "    x = x0\n",
        "\n",
        "    y = findY(x)\n",
        "    s = findS(x, y)\n",
        "    i = 0\n",
        "\n",
        "    while True:\n",
        "        i += 1\n",
        "        y = findY(x)\n",
        "        s = findS(x, y)\n",
        "        x0 = x\n",
        "        x = [x[0] + s * (y[0] - x[0]), x[1] + s * (y[1] - x[1])]\n",
        "        print(str(i) + ')\\tz = [' + format_print(x[0]) + ', ' + format_print(x[1])\n",
        "        + ']\\ty = [' + format_print(y[0]) + ', ' + format_print(y[1]) + ']\\ts = '\n",
        "        + format_print(s) + '\\tf(zz) = ' + format_print(g(x)) + '\\t|z - zz| = ' + format_print(norma(diffVec(x0, x))))\n",
        "        if scalarProduct(diffg(x), diffVec(y, x)) >= 0:\n",
        "            print('xmin = [' + format_print(x[0]) + ', ' + format_print(x[1])+ ']')\n",
        "            break\n",
        "\n",
        "main()"
      ]
    }
  ]
}