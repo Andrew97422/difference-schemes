{
  "nbformat": 4,
  "nbformat_minor": 0,
  "metadata": {
    "colab": {
      "provenance": [],
      "authorship_tag": "ABX9TyOy5grLA1sTskMwH9sfXXkm",
      "include_colab_link": true
    },
    "kernelspec": {
      "name": "python3",
      "display_name": "Python 3"
    },
    "language_info": {
      "name": "python"
    }
  },
  "cells": [
    {
      "cell_type": "markdown",
      "metadata": {
        "id": "view-in-github",
        "colab_type": "text"
      },
      "source": [
        "<a href=\"https://colab.research.google.com/github/Andrew97422/difference-schemes/blob/main/optimization-methods/Lab2.ipynb\" target=\"_parent\"><img src=\"https://colab.research.google.com/assets/colab-badge.svg\" alt=\"Open In Colab\"/></a>"
      ]
    },
    {
      "cell_type": "code",
      "execution_count": 18,
      "metadata": {
        "colab": {
          "base_uri": "https://localhost:8080/"
        },
        "id": "l9z7PMWCVW_r",
        "outputId": "b78cb96d-a1be-4e8b-a358-454eaca11518"
      },
      "outputs": [
        {
          "output_type": "stream",
          "name": "stdout",
          "text": [
            "1 \t a =  0.000000 \t b =  1.000000 \t x =  0.364010 \t f'(x) =  -0.623675\n",
            "2 \t a =  0.364010 \t b =  1.000000 \t x =  0.623488 \t f'(x) =  -0.045669\n",
            "3 \t a =  0.623488 \t b =  1.000000 \t x =  0.790659 \t f'(x) =  0.208810\n",
            "4 \t a =  0.623488 \t b =  0.790659 \t x =  0.702914 \t f'(x) =  0.084733\n",
            "5 \t a =  0.623488 \t b =  0.702914 \t x =  0.662265 \t f'(x) =  0.020301\n",
            "6 \t a =  0.623488 \t b =  0.662265 \t x =  0.642654 \t f'(x) =  -0.012495\n",
            "7 \t a =  0.642654 \t b =  0.662265 \t x =  0.652402 \t f'(x) =  0.003951\n",
            "8 \t a =  0.642654 \t b =  0.652402 \t x =  0.647514 \t f'(x) =  -0.004260\n",
            "9 \t a =  0.647514 \t b =  0.652402 \t x =  0.649954 \t f'(x) =  -0.000152\n",
            "10 \t a =  0.649954 \t b =  0.652402 \t x =  0.651177 \t f'(x) =  0.001900\n",
            "11 \t a =  0.649954 \t b =  0.651177 \t x =  0.650566 \t f'(x) =  0.000874\n",
            "12 \t a =  0.649954 \t b =  0.650566 \t x =  0.650260 \t f'(x) =  0.000361\n",
            "13 \t a =  0.649954 \t b =  0.650260 \t x =  0.650107 \t f'(x) =  0.000105\n",
            "14 \t a =  0.649954 \t b =  0.650107 \t x =  0.650031 \t f'(x) =  -0.000023\n",
            "15 \t a =  0.650031 \t b =  0.650107 \t x =  0.650069 \t f'(x) =  0.000041\n",
            "16 \t a =  0.650031 \t b =  0.650069 \t x =  0.650050 \t f'(x) =  0.000009\n",
            "17 \t a =  0.650031 \t b =  0.650050 \t x =  0.650040 \t f'(x) =  -0.000007\n",
            "18 \t a =  0.650040 \t b =  0.650050 \t x =  0.650045 \t f'(x) =  0.000001\n",
            "Xmin =  0.6500451979429988\n"
          ]
        }
      ],
      "source": [
        "import numpy as np\n",
        "import math\n",
        "\n",
        "# Константы\n",
        "round = 6\n",
        "a = 0\n",
        "b = 1\n",
        "x = 0\n",
        "eps = 10 ** (-round)\n",
        "\n",
        "def f(x):\n",
        "  return np.sqrt(1 + x ** 2) + np.e ** (-2 * x)\n",
        "\n",
        "\n",
        "def fpr(x):\n",
        "  return (x / np.sqrt(1 + x ** 2)) - 2 * np.e ** (-2 * x)\n",
        "\n",
        "\n",
        "def format_print(x):\n",
        "  s = \"{0:.\" + str(round) + \"f}\"\n",
        "  return s.format(x)\n",
        "\n",
        "\n",
        "if fpr(a) >= 0: print('Xmin = ', a)\n",
        "elif fpr(b) < 0: print('Xmin = ', b)\n",
        "else:\n",
        "  i = 1\n",
        "  j = 1\n",
        "  while True:\n",
        "    x = (f(b) - f(a) + fpr(a) * a - fpr(b) * b) / (fpr(a) - fpr(b))\n",
        "    print(i, '\\t', 'a = ', format_print(a), '\\t', 'b = ', format_print(b), '\\t',\n",
        "          'x = ', format_print(x), '\\t', \"f'(x) = \", format_print(fpr(x)))\n",
        "    i += 1\n",
        "    if fpr(x) >= eps: b = x\n",
        "    elif fpr(x) < -eps: a = x\n",
        "    elif abs(fpr(x)) <= eps:\n",
        "      print('Xmin = ', x)\n",
        "      break"
      ]
    }
  ]
}